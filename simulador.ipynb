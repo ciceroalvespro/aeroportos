import pandas as pd
import numpy as np

# --- Leitura e renomeação
url = "https://raw.githubusercontent.com/ciceroalvespro/aeroportos/b639ebfaef18d8010c8ab9b1f8babc0d758c00e9/malha.CSV"
df = pd.read_csv(url)

df.rename(columns={
    'Airl.Desig': 'Empresa',
    'FltNo': 'Voo',
    'ArrDep': 'Movimento',
    'Date LT': 'Data',
    'Time LT': 'Horário (LT)',
    'ORIGDEST': 'Origem_Destino',
    'Serv.type': 'Tipo de Serviço',
    'ICAO ActType': 'Equipamento'
}, inplace=True)

# --- Conversões de data/hora
df['Data'] = pd.to_datetime(df['Data'], format='%d-%b-%Y')
df['Horário (LT)'] = df['Horário (LT)'].astype(str).str.zfill(4)
df['Hora'] = pd.to_datetime(df['Horário (LT)'], format='%H%M').dt.time
df['Data_Hora'] = pd.to_datetime(df['Data'].astype(str) + ' ' + df['Hora'].astype(str))

# --- Ajuste dos movimentos e definição de origem/destino
df['Movimento'] = df['Movimento'].replace({'A': 'Pouso', 'D': 'Decolagem'})
df['Origem'] = np.where(df['Movimento'] == 'Pouso', df['Origem_Destino'], 'VCP')
df['Destino'] = np.where(df['Movimento'] == 'Decolagem', df['Origem_Destino'], 'VCP')

# --- Seleção final de colunas
df = df[["Empresa", "Voo", "Movimento", "Origem", "Destino", "Tipo de Serviço", "Equipamento","Data", "Data_Hora"]]

# --- Filtro de data específica
data_especifica = pd.to_datetime("2025-07-14")
df_data = df[df['Data'] == data_especifica]

# --- Separar pousos e decolagens
pousos = df_data[df_data["Movimento"] == "Pouso"].copy()
decolagens = df_data[df_data["Movimento"] == "Decolagem"].copy()

# Criar chave para produto cartesiano
pousos["key"] = 1
decolagens["key"] = 1

cross = pousos.merge(decolagens, on="key", suffixes=('_pouso', '_deco'))

# Filtrar pareamento por equipamento e tempo >= 45 minutos
cross = cross[
    (cross['Equipamento_pouso'] == cross['Equipamento_deco']) &
    (cross['Data_Hora_deco'] >= cross['Data_Hora_pouso'])
]

cross['diff'] = cross['Data_Hora_deco'] - cross['Data_Hora_pouso']
cross = cross[cross['diff'] >= pd.Timedelta(minutes=45)]

cross_sorted = cross.sort_values(['Voo_pouso', 'diff'])
paired = cross_sorted.groupby('Voo_pouso').first().reset_index()
paired_voos = set(paired['Voo_pouso'])

# Tratamento dos pousos sem pareamento de decolagem
unpaired = pousos[~pousos['Voo'].isin(paired_voos)].copy()
unpaired['Data_Hora_deco'] = pd.Timestamp.combine(data_especifica, pd.Timestamp('23:59').time())
unpaired['Voo_Decolagem'] = '—'
unpaired['Destino'] = 'Desconhecido'
# Criar coluna 'Tipo_Serviço_deco' no unpaired não é mais necessário, removida

# Renomear a coluna 'Tipo de Serviço' para 'Tipo_Serviço_Pouso' no unpaired
unpaired.rename(columns={'Tipo de Serviço': 'Tipo_Serviço_Pouso'}, inplace=True)

# Ajustar paired: renomear colunas de tipo de serviço para padronizar
paired.rename(columns={
    'Tipo de Serviço_pouso': 'Tipo_Serviço_Pouso',
    'Tipo de Serviço_deco': 'Tipo_Serviço_Decolagem'
}, inplace=True)

# --- Remover coluna extra, caso tenha sobrado
if 'Tipo_Serviço_deco' in unpaired.columns:
    unpaired.drop(columns=['Tipo_Serviço_deco'], inplace=True)

# --- Concatenar resultados finais sem a coluna indesejada
final = pd.concat([
    paired.rename(columns={
        'Voo_pouso': 'Voo_Pouso',
        'Voo_deco': 'Voo_Decolagem',
        'Equipamento_pouso': 'Equipamento',
        'Origem_pouso': 'Origem',
        'Destino_deco': 'Destino',
        'Data_Hora_pouso': 'Data_Hora_Pouso',
        'Data_Hora_deco': 'Data_Hora_Decolagem'
    })[["Voo_Pouso", "Voo_Decolagem", "Equipamento", "Origem", "Destino", "Tipo_Serviço_Pouso", "Tipo_Serviço_Decolagem", "Data_Hora_Pouso", "Data_Hora_Decolagem"]],
    
    unpaired[["Voo", "Voo_Decolagem", "Equipamento", "Origem", "Destino", "Tipo_Serviço_Pouso", "Data_Hora", "Data_Hora_deco"]].rename(columns={
        'Voo': 'Voo_Pouso',
        'Data_Hora': 'Data_Hora_Pouso',
        'Data_Hora_deco': 'Data_Hora_Decolagem'
    })
], ignore_index=True)

final = final.sort_values("Data_Hora_Pouso").reset_index(drop=True)

# Mostrar as primeiras linhas pra checar
final
