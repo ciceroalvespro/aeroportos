import pandas as pd
import plotly.express as px

# --- Fase 0: Leitura e preparação
url = "https://raw.githubusercontent.com/ciceroalvespro/aeroportos/b639ebfaef18d8010c8ab9b1f8babc0d758c00e9/malha.CSV"
df = pd.read_csv(url)

df.rename(columns={
    'Airl.Desig': 'Empresa (ICAO)',
    'FltNo': 'Nº Voo',
    'ArrDep': 'Movimento',
    'Date LT': 'Data',
    'Time LT': 'Horário (LT)',
    'ORIGDEST': 'Origem_Destino',
    'PREVNEXT': 'Anterior/Próximo',
    'Serv.type': 'Tipo de Serviço',
    'ICAO ActType': 'Equipamento',
    'IATA ActType': 'Equipamento IATA',
    'Seats': 'Assentos',
    'Season': 'Temporada'
}, inplace=True)

df['Data'] = pd.to_datetime(df['Data'], format='%d-%b-%Y')
df['Horário (LT)'] = df['Horário (LT)'].astype(str).str.zfill(4)
df['Hora'] = pd.to_datetime(df['Horário (LT)'], format='%H%M').dt.time
df['Horario'] = df.apply(lambda row: pd.Timestamp.combine(row['Data'], row['Hora']), axis=1)
df['Movimento'] = df['Movimento'].replace({'A': 'Pouso', 'D': 'Decolagem'})

# --- 🔽 Filtro de data específica
data_especifica = pd.to_datetime("2025-07-14")  # 👈 DATA DA SIMULAÇAO 
df_data = df[df['Data'] == data_especifica]

# --- Fase 1: Pareamento Pouso-Decolagem
pousos = df_data[df_data["Movimento"] == "Pouso"].copy()
decolagens = df_data[df_data["Movimento"] == "Decolagem"].copy()

pousos["key"] = 1
decolagens["key"] = 1
cross = pousos.merge(decolagens, on="key", suffixes=('_pouso', '_deco'))
cross = cross[
    (cross['Equipamento_pouso'] == cross['Equipamento_deco']) &
    (cross['Horario_deco'] >= cross['Horario_pouso'])
]
cross['diff'] = cross['Horario_deco'] - cross['Horario_pouso']
cross = cross[cross['diff'] >= pd.Timedelta(minutes=45)]   # 👈 TEMPO MINIMO DE SOLO
cross_sorted = cross.sort_values(['Nº Voo_pouso', 'diff'])
paired = cross_sorted.groupby('Nº Voo_pouso').first().reset_index()

paired_voos = set(paired['Nº Voo_pouso'])
unpaired = pousos[~pousos['Nº Voo'].isin(paired_voos)].copy()
unpaired['Horario_deco'] = pd.Timestamp.combine(data_especifica, pd.Timestamp('23:59').time())

final = pd.concat([
    paired.rename(columns={
        'Nº Voo_pouso': 'Nº Voo',
        'Equipamento_pouso': 'Equipamento',
        'Horario_pouso': 'Horario_Pouso',
        'Horario_deco': 'Horario_Decolagem'
    })[['Nº Voo', 'Equipamento', 'Horario_Pouso', 'Horario_Decolagem']],
    unpaired.rename(columns={
        'Horario': 'Horario_Pouso'
    })[['Nº Voo', 'Equipamento', 'Horario_Pouso', 'Horario_deco']].rename(columns={
        'Horario_deco': 'Horario_Decolagem'
    })
])
final = final.sort_values("Horario_Pouso").reset_index(drop=True)

# --- Fase 2: Alocação com intervalo de 15 minutos entre voos
m_positions = [f"M{i}" for i in range(1, 9)]
n_positions = [f"N{i}" for i in range(101, 112)]
b_positions = ["B02", "B04", "B06", "B08", "B10", "B12", "B14"]
bint_positions = ["B09", "B13"]
a_positions = ["A02", "A06"]
c_positions = ["C02","C04","C05","C06","C07","C08","C09","C10","C11","C12","C13","C14","C15"]

position_end_time = {pos: pd.Timestamp("2000-01-01 00:00:00") for pos in m_positions + n_positions + b_positions + c_positions + bint_positions + a_positions}
allocations = []
unallocated = 0

# Merge das infos adicionais
info = pousos[['Nº Voo', 'Tipo de Serviço', 'Origem_Destino', 'Empresa (ICAO)']]
final = final.merge(info, on='Nº Voo', how='left')

def alocar_voo(pouso):
    global unallocated
    equipamento = pouso["Equipamento"]
    tipo_servico = pouso["Tipo de Serviço"]
    chegada = pouso["Horario_Pouso"]
    saida = pouso["Horario_Decolagem"]
    origem_destino = pouso["Origem_Destino"]

    if tipo_servico == "F":
        positions = m_positions
    elif equipamento in ["C208", "AT72"]:
        positions = n_positions
    elif tipo_servico in ["C", "J", "G"] and equipamento not in ["C208", "AT72", "A339", "A332"]:
        positions = b_positions + c_positions
    elif tipo_servico in ["C", "J", "G"] and origem_destino in ["ASU","BRC","FLL","LIS","MAD","MCO","MDZ","MVD","OPO","ORY"]:# 👈 DESTINOS INTERNACIONAIS
        positions = a_positions + bint_positions
    else:
        positions = []

    for pos in positions:
        if chegada >= position_end_time[pos] + pd.Timedelta(minutes=15): # 👈 REGRA DE INTERVALO ENTRE SAIDA E CHEGADA 
            allocations.append({
                "Nº Voo": pouso["Nº Voo"],
                "Equipamento": equipamento,
                "Início": chegada,
                "Fim": saida,
                "Pátio": pos,
                "Origem_Destino": origem_destino,
                "Empresa (ICAO)": pouso["Empresa (ICAO)"]
            })
            position_end_time[pos] = saida
            return

    allocations.append({
        "Nº Voo": pouso["Nº Voo"],
        "Equipamento": equipamento,
        "Início": chegada,
        "Fim": saida,
        "Pátio": "Adensamento",
        "Origem_Destino": origem_destino,
        "Empresa (ICAO)": pouso["Empresa (ICAO)"]
    })
    unallocated += 1

for _, row in final.iterrows():
    alocar_voo(row)

# Preenche pátios vazios no Gantt
for pos in m_positions + n_positions + b_positions + c_positions + bint_positions + a_positions:
    if pos not in [a["Pátio"] for a in allocations]:
        allocations.append({
            "Nº Voo": "",
            "Equipamento": "",
            "Início": pd.Timestamp(data_especifica.strftime("%Y-%m-%d") + " 00:00"),
            "Fim": pd.Timestamp(data_especifica.strftime("%Y-%m-%d") + " 00:00"),
            "Pátio": pos,
            "Origem_Destino": "",
            "Empresa (ICAO)": ""
        })

gantt_df = pd.DataFrame(allocations)

patio_order = (
    ["Adensamento"] +
    sorted(m_positions) +
    sorted(n_positions) +
    sorted(c_positions) +
    sorted(b_positions) +
    sorted(bint_positions) +
    sorted(a_positions)
)

gantt_df['Pátio'] = pd.Categorical(
    gantt_df['Pátio'],
    categories=patio_order,
    ordered=True
)
gantt_df = gantt_df.sort_values(["Pátio", "Início"]).reset_index(drop=True)

inicio = pd.Timestamp(data_especifica.strftime("%Y-%m-%d") + " 00:00:00")
fim = pd.Timestamp(data_especifica.strftime("%Y-%m-%d") + " 23:59:59")

fig = px.timeline(
    gantt_df,
    x_start="Início",
    x_end="Fim",
    y="Pátio",
    color="Equipamento",
    hover_data=["Nº Voo", "Origem_Destino", "Empresa (ICAO)"],
    title=f"Alocação de Pátios - Voos no Adensamento: {unallocated}",
    color_discrete_map={
        "": "rgba(0,0,0,0)",
        "C208": "#FF00FF",
        "AT72": "#216B0F",
        "A320": "#FFA500",
        "763": "#0000FF",
        "B74": "#008000",
        "B77": "#FF0000",
        "E295": "#800080"
    },
    color_discrete_sequence=px.colors.qualitative.Pastel
)

fig.update_layout(
    height=1400,
    xaxis=dict(
        tickformat="%H:%M",
        range=[inicio, fim]
    ),
    yaxis=dict(
        title="Pátio",
        categoryorder='array',
        categoryarray=patio_order
    ),
    legend=dict(
        title="Equipamentos Especiais",
        orientation="h",
        yanchor="bottom",
        y=1.02,
        xanchor="right",
        x=1
    )
)

fig.show()
